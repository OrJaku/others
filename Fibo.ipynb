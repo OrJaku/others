{
  "nbformat": 4,
  "nbformat_minor": 0,
  "metadata": {
    "colab": {
      "name": "Fibo.ipynb",
      "provenance": [],
      "authorship_tag": "ABX9TyPbAHwaLz1/1GpD7DvkTBwQ",
      "include_colab_link": true
    },
    "kernelspec": {
      "name": "python3",
      "display_name": "Python 3"
    }
  },
  "cells": [
    {
      "cell_type": "markdown",
      "metadata": {
        "id": "view-in-github",
        "colab_type": "text"
      },
      "source": [
        "<a href=\"https://colab.research.google.com/github/OrJaku/others/blob/master/Fibo.ipynb\" target=\"_parent\"><img src=\"https://colab.research.google.com/assets/colab-badge.svg\" alt=\"Open In Colab\"/></a>"
      ]
    },
    {
      "cell_type": "code",
      "metadata": {
        "id": "psNN9-hXzq9F",
        "colab_type": "code",
        "colab": {}
      },
      "source": [
        "def fib(i):\n",
        "  if i < 0:\n",
        "    return print(\"Incorrect\")\n",
        "  elif i == 1:\n",
        "    return 0 \n",
        "  elif i == 2:\n",
        "    return 1 \n",
        "  else: \n",
        "    return fib(i-1) + fib(i-2)"
      ],
      "execution_count": 0,
      "outputs": []
    },
    {
      "cell_type": "code",
      "metadata": {
        "id": "jPi39ruJ0Mbc",
        "colab_type": "code",
        "colab": {
          "base_uri": "https://localhost:8080/",
          "height": 51
        },
        "outputId": "1baa220c-67f5-413e-b3dc-0a6f739c89c7"
      },
      "source": [
        "i = 0\n",
        "memo = {}\n",
        "while True:\n",
        "  i += 1\n",
        "  fib(i)\n",
        "  if fib(i) % 2 == 0:\n",
        "    memo[i] = fib(i)\n",
        "    if fib(i) > 1000000:\n",
        "      del memo[i]\n",
        "      break\n",
        "print(\"Values:\", memo.values())\n",
        "print(\"Sum:\", sum(memo.values()))"
      ],
      "execution_count": 21,
      "outputs": [
        {
          "output_type": "stream",
          "text": [
            "Values: dict_values([0, 2, 8, 34, 144, 610, 2584, 10946, 46368, 196418, 832040])\n",
            "Sum: 1089154\n"
          ],
          "name": "stdout"
        }
      ]
    },
    {
      "cell_type": "code",
      "metadata": {
        "id": "UVc7Z6Hq0Ryg",
        "colab_type": "code",
        "colab": {}
      },
      "source": [
        ""
      ],
      "execution_count": 0,
      "outputs": []
    }
  ]
}