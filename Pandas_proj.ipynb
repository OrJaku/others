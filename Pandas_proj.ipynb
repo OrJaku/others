{
  "nbformat": 4,
  "nbformat_minor": 0,
  "metadata": {
    "colab": {
      "name": "Pandas_proj.ipynb",
      "provenance": [],
      "collapsed_sections": [],
      "toc_visible": true,
      "mount_file_id": "1T-4oJbVTsIsbO7WpJV8qsdrlou4Zk9o0",
      "authorship_tag": "ABX9TyNH8et7NX1MGEYqgTd/jZf3",
      "include_colab_link": true
    },
    "kernelspec": {
      "name": "python3",
      "display_name": "Python 3"
    }
  },
  "cells": [
    {
      "cell_type": "markdown",
      "metadata": {
        "id": "view-in-github",
        "colab_type": "text"
      },
      "source": [
        "<a href=\"https://colab.research.google.com/github/OrJaku/others/blob/master/Pandas_proj.ipynb\" target=\"_parent\"><img src=\"https://colab.research.google.com/assets/colab-badge.svg\" alt=\"Open In Colab\"/></a>"
      ]
    },
    {
      "cell_type": "markdown",
      "metadata": {
        "id": "cjJ9YexaG6gT",
        "colab_type": "text"
      },
      "source": [
        "####Import liberies"
      ]
    },
    {
      "cell_type": "code",
      "metadata": {
        "id": "dkOGqlohSeiv",
        "colab_type": "code",
        "outputId": "76fea699-bf67-4ebd-99c6-24cb65405e87",
        "colab": {
          "base_uri": "https://localhost:8080/",
          "height": 350
        }
      },
      "source": [
        "import os \n",
        "import pandas as pd\n",
        "import numpy as np\n",
        "import matplotlib.pyplot as plt\n",
        "from sklearn.metrics import mean_absolute_error\n",
        "from sklearn.ensemble import RandomForestRegressor\n",
        "from sklearn.tree import DecisionTreeRegressor\n",
        "from sklearn.model_selection import cross_val_score, KFold\n",
        "import eli5\n",
        "from eli5.sklearn import PermutationImportance\n"
      ],
      "execution_count": 0,
      "outputs": [
        {
          "output_type": "error",
          "ename": "ModuleNotFoundError",
          "evalue": "ignored",
          "traceback": [
            "\u001b[0;31m---------------------------------------------------------------------------\u001b[0m",
            "\u001b[0;31mModuleNotFoundError\u001b[0m                       Traceback (most recent call last)",
            "\u001b[0;32m<ipython-input-3-686f1d5450e8>\u001b[0m in \u001b[0;36m<module>\u001b[0;34m()\u001b[0m\n\u001b[1;32m      8\u001b[0m \u001b[0;32mfrom\u001b[0m \u001b[0msklearn\u001b[0m\u001b[0;34m.\u001b[0m\u001b[0mmodel_selection\u001b[0m \u001b[0;32mimport\u001b[0m \u001b[0mcross_val_score\u001b[0m\u001b[0;34m,\u001b[0m \u001b[0mKFold\u001b[0m\u001b[0;34m\u001b[0m\u001b[0;34m\u001b[0m\u001b[0m\n\u001b[1;32m      9\u001b[0m \u001b[0;32mimport\u001b[0m \u001b[0mxgboost\u001b[0m \u001b[0;32mas\u001b[0m \u001b[0mxgb\u001b[0m\u001b[0;34m\u001b[0m\u001b[0;34m\u001b[0m\u001b[0m\n\u001b[0;32m---> 10\u001b[0;31m \u001b[0;32mimport\u001b[0m \u001b[0meli5\u001b[0m\u001b[0;34m\u001b[0m\u001b[0;34m\u001b[0m\u001b[0m\n\u001b[0m\u001b[1;32m     11\u001b[0m \u001b[0;32mfrom\u001b[0m \u001b[0meli5\u001b[0m\u001b[0;34m.\u001b[0m\u001b[0msklearn\u001b[0m \u001b[0;32mimport\u001b[0m \u001b[0mPermutationImportance\u001b[0m\u001b[0;34m\u001b[0m\u001b[0;34m\u001b[0m\u001b[0m\n",
            "\u001b[0;31mModuleNotFoundError\u001b[0m: No module named 'eli5'",
            "",
            "\u001b[0;31m---------------------------------------------------------------------------\u001b[0;32m\nNOTE: If your import is failing due to a missing package, you can\nmanually install dependencies using either !pip or !apt.\n\nTo view examples of installing some common dependencies, click the\n\"Open Examples\" button below.\n\u001b[0;31m---------------------------------------------------------------------------\u001b[0m\n"
          ]
        }
      ]
    },
    {
      "cell_type": "code",
      "metadata": {
        "id": "WDJuE_z24ANU",
        "colab_type": "code",
        "outputId": "6b42e407-d490-4f60-9f6c-3b7d37880dd0",
        "colab": {
          "base_uri": "https://localhost:8080/",
          "height": 68
        }
      },
      "source": [
        "!pip install xgboost"
      ],
      "execution_count": 0,
      "outputs": [
        {
          "output_type": "stream",
          "text": [
            "Requirement already satisfied: xgboost in /usr/local/lib/python3.6/dist-packages (0.90)\n",
            "Requirement already satisfied: scipy in /usr/local/lib/python3.6/dist-packages (from xgboost) (1.4.1)\n",
            "Requirement already satisfied: numpy in /usr/local/lib/python3.6/dist-packages (from xgboost) (1.18.4)\n"
          ],
          "name": "stdout"
        }
      ]
    },
    {
      "cell_type": "code",
      "metadata": {
        "id": "t6tQ9-P_q309",
        "colab_type": "code",
        "outputId": "f8520772-2ee9-4b5e-e978-4a3d95513800",
        "colab": {
          "base_uri": "https://localhost:8080/",
          "height": 34
        }
      },
      "source": [
        "cd '/content/drive/My Drive/Colab Notebooks/Pandas'"
      ],
      "execution_count": 0,
      "outputs": [
        {
          "output_type": "stream",
          "text": [
            "/content/drive/My Drive/Colab Notebooks/Pandas\n"
          ],
          "name": "stdout"
        }
      ]
    },
    {
      "cell_type": "code",
      "metadata": {
        "id": "xNAyPWsnT7YJ",
        "colab_type": "code",
        "colab": {}
      },
      "source": [
        "from google.colab import files\n",
        "files.upload()\n"
      ],
      "execution_count": 0,
      "outputs": []
    },
    {
      "cell_type": "code",
      "metadata": {
        "id": "DqrZfxzSUQKa",
        "colab_type": "code",
        "colab": {}
      },
      "source": [
        "df = pd.read_csv('data/cars.csv')"
      ],
      "execution_count": 0,
      "outputs": []
    },
    {
      "cell_type": "code",
      "metadata": {
        "id": "htTXtUfhUkX8",
        "colab_type": "code",
        "outputId": "5fc1b337-e21a-47c4-8b0b-b4f45fb888e2",
        "colab": {
          "base_uri": "https://localhost:8080/",
          "height": 102
        }
      },
      "source": [
        "print(df.shape)\n",
        "df.columns"
      ],
      "execution_count": 0,
      "outputs": [
        {
          "output_type": "stream",
          "text": [
            "(387, 15)\n"
          ],
          "name": "stdout"
        },
        {
          "output_type": "execute_result",
          "data": {
            "text/plain": [
              "Index(['Unnamed: 0', 'AWD', 'RWD', 'Retail', 'Dealer', 'Engine', 'Cylinders',\n",
              "       'Horsepower', 'CityMPG', 'HighwayMPG', 'Weight', 'Wheelbase', 'Length',\n",
              "       'Width', 'Class'],\n",
              "      dtype='object')"
            ]
          },
          "metadata": {
            "tags": []
          },
          "execution_count": 7
        }
      ]
    },
    {
      "cell_type": "code",
      "metadata": {
        "id": "Q2IRkQkcUmvA",
        "colab_type": "code",
        "colab": {}
      },
      "source": [
        "df.head()"
      ],
      "execution_count": 0,
      "outputs": []
    },
    {
      "cell_type": "markdown",
      "metadata": {
        "id": "i2yLrdZnGwQS",
        "colab_type": "text"
      },
      "source": [
        "####Delete columns"
      ]
    },
    {
      "cell_type": "code",
      "metadata": {
        "id": "pC2J3UpXVTaq",
        "colab_type": "code",
        "colab": {}
      },
      "source": [
        "df_filtered = df.copy()\n",
        "# del df_filtered['Dealer']\n",
        "del df_filtered['Wheelbase']"
      ],
      "execution_count": 0,
      "outputs": []
    },
    {
      "cell_type": "markdown",
      "metadata": {
        "id": "TsfValxWHBPR",
        "colab_type": "text"
      },
      "source": [
        "####Chnage columns name "
      ]
    },
    {
      "cell_type": "code",
      "metadata": {
        "id": "RQ9QLzOaWHhX",
        "colab_type": "code",
        "outputId": "b86a36f9-467f-438e-fa35-ce14430e3bef",
        "colab": {
          "base_uri": "https://localhost:8080/",
          "height": 204
        }
      },
      "source": [
        "df_filtered  = df_filtered.rename(columns={'Retail': 'Price'})\n",
        "df_filtered  = df_filtered.rename(columns={'Unnamed: 0': 'Name'})\n",
        "\n",
        "df_filtered.head()"
      ],
      "execution_count": 0,
      "outputs": [
        {
          "output_type": "execute_result",
          "data": {
            "text/html": [
              "<div>\n",
              "<style scoped>\n",
              "    .dataframe tbody tr th:only-of-type {\n",
              "        vertical-align: middle;\n",
              "    }\n",
              "\n",
              "    .dataframe tbody tr th {\n",
              "        vertical-align: top;\n",
              "    }\n",
              "\n",
              "    .dataframe thead th {\n",
              "        text-align: right;\n",
              "    }\n",
              "</style>\n",
              "<table border=\"1\" class=\"dataframe\">\n",
              "  <thead>\n",
              "    <tr style=\"text-align: right;\">\n",
              "      <th></th>\n",
              "      <th>Name</th>\n",
              "      <th>AWD</th>\n",
              "      <th>RWD</th>\n",
              "      <th>Price</th>\n",
              "      <th>Dealer</th>\n",
              "      <th>Engine</th>\n",
              "      <th>Cylinders</th>\n",
              "      <th>Horsepower</th>\n",
              "      <th>CityMPG</th>\n",
              "      <th>HighwayMPG</th>\n",
              "      <th>Weight</th>\n",
              "      <th>Length</th>\n",
              "      <th>Width</th>\n",
              "      <th>Class</th>\n",
              "    </tr>\n",
              "  </thead>\n",
              "  <tbody>\n",
              "    <tr>\n",
              "      <th>0</th>\n",
              "      <td>Acura 3.5 RL</td>\n",
              "      <td>0</td>\n",
              "      <td>0</td>\n",
              "      <td>43755</td>\n",
              "      <td>39014</td>\n",
              "      <td>3.5</td>\n",
              "      <td>6</td>\n",
              "      <td>225</td>\n",
              "      <td>18</td>\n",
              "      <td>24</td>\n",
              "      <td>3880</td>\n",
              "      <td>197</td>\n",
              "      <td>72</td>\n",
              "      <td>Sedan</td>\n",
              "    </tr>\n",
              "    <tr>\n",
              "      <th>1</th>\n",
              "      <td>Acura 3.5 RL Navigation</td>\n",
              "      <td>0</td>\n",
              "      <td>0</td>\n",
              "      <td>46100</td>\n",
              "      <td>41100</td>\n",
              "      <td>3.5</td>\n",
              "      <td>6</td>\n",
              "      <td>225</td>\n",
              "      <td>18</td>\n",
              "      <td>24</td>\n",
              "      <td>3893</td>\n",
              "      <td>197</td>\n",
              "      <td>72</td>\n",
              "      <td>Sedan</td>\n",
              "    </tr>\n",
              "    <tr>\n",
              "      <th>2</th>\n",
              "      <td>Acura MDX</td>\n",
              "      <td>1</td>\n",
              "      <td>0</td>\n",
              "      <td>36945</td>\n",
              "      <td>33337</td>\n",
              "      <td>3.5</td>\n",
              "      <td>6</td>\n",
              "      <td>265</td>\n",
              "      <td>17</td>\n",
              "      <td>23</td>\n",
              "      <td>4451</td>\n",
              "      <td>189</td>\n",
              "      <td>77</td>\n",
              "      <td>SUV</td>\n",
              "    </tr>\n",
              "    <tr>\n",
              "      <th>3</th>\n",
              "      <td>Acura NSX S</td>\n",
              "      <td>0</td>\n",
              "      <td>1</td>\n",
              "      <td>89765</td>\n",
              "      <td>79978</td>\n",
              "      <td>3.2</td>\n",
              "      <td>6</td>\n",
              "      <td>290</td>\n",
              "      <td>17</td>\n",
              "      <td>24</td>\n",
              "      <td>3153</td>\n",
              "      <td>174</td>\n",
              "      <td>71</td>\n",
              "      <td>Sports</td>\n",
              "    </tr>\n",
              "    <tr>\n",
              "      <th>4</th>\n",
              "      <td>Acura RSX</td>\n",
              "      <td>0</td>\n",
              "      <td>0</td>\n",
              "      <td>23820</td>\n",
              "      <td>21761</td>\n",
              "      <td>2.0</td>\n",
              "      <td>4</td>\n",
              "      <td>200</td>\n",
              "      <td>24</td>\n",
              "      <td>31</td>\n",
              "      <td>2778</td>\n",
              "      <td>172</td>\n",
              "      <td>68</td>\n",
              "      <td>Sedan</td>\n",
              "    </tr>\n",
              "  </tbody>\n",
              "</table>\n",
              "</div>"
            ],
            "text/plain": [
              "                      Name  AWD  RWD  Price  ...  Weight  Length  Width   Class\n",
              "0             Acura 3.5 RL    0    0  43755  ...    3880     197     72   Sedan\n",
              "1  Acura 3.5 RL Navigation    0    0  46100  ...    3893     197     72   Sedan\n",
              "2                Acura MDX    1    0  36945  ...    4451     189     77     SUV\n",
              "3              Acura NSX S    0    1  89765  ...    3153     174     71  Sports\n",
              "4                Acura RSX    0    0  23820  ...    2778     172     68   Sedan\n",
              "\n",
              "[5 rows x 14 columns]"
            ]
          },
          "metadata": {
            "tags": []
          },
          "execution_count": 79
        }
      ]
    },
    {
      "cell_type": "markdown",
      "metadata": {
        "id": "M8jrN9UMHGMb",
        "colab_type": "text"
      },
      "source": [
        "####Copy data to new data frames "
      ]
    },
    {
      "cell_type": "code",
      "metadata": {
        "id": "PXaBY1g3a-TS",
        "colab_type": "code",
        "colab": {}
      },
      "source": [
        "df_ext = df_filtered.copy()"
      ],
      "execution_count": 0,
      "outputs": []
    },
    {
      "cell_type": "code",
      "metadata": {
        "id": "uKrZEBcPcLk4",
        "colab_type": "code",
        "outputId": "8ba626a4-58b0-4169-f590-a318e1062143",
        "colab": {
          "base_uri": "https://localhost:8080/",
          "height": 204
        }
      },
      "source": [
        "df_ext.head()"
      ],
      "execution_count": 0,
      "outputs": [
        {
          "output_type": "execute_result",
          "data": {
            "text/html": [
              "<div>\n",
              "<style scoped>\n",
              "    .dataframe tbody tr th:only-of-type {\n",
              "        vertical-align: middle;\n",
              "    }\n",
              "\n",
              "    .dataframe tbody tr th {\n",
              "        vertical-align: top;\n",
              "    }\n",
              "\n",
              "    .dataframe thead th {\n",
              "        text-align: right;\n",
              "    }\n",
              "</style>\n",
              "<table border=\"1\" class=\"dataframe\">\n",
              "  <thead>\n",
              "    <tr style=\"text-align: right;\">\n",
              "      <th></th>\n",
              "      <th>Name</th>\n",
              "      <th>AWD</th>\n",
              "      <th>RWD</th>\n",
              "      <th>Price</th>\n",
              "      <th>Engine</th>\n",
              "      <th>Cylinders</th>\n",
              "      <th>Horsepower</th>\n",
              "      <th>CityMPG</th>\n",
              "      <th>HighwayMPG</th>\n",
              "      <th>Weight</th>\n",
              "      <th>Length</th>\n",
              "      <th>Width</th>\n",
              "      <th>Class</th>\n",
              "    </tr>\n",
              "  </thead>\n",
              "  <tbody>\n",
              "    <tr>\n",
              "      <th>0</th>\n",
              "      <td>Acura 3.5 RL</td>\n",
              "      <td>0</td>\n",
              "      <td>0</td>\n",
              "      <td>43755</td>\n",
              "      <td>3.5</td>\n",
              "      <td>6</td>\n",
              "      <td>225</td>\n",
              "      <td>18</td>\n",
              "      <td>24</td>\n",
              "      <td>3880</td>\n",
              "      <td>197</td>\n",
              "      <td>72</td>\n",
              "      <td>Sedan</td>\n",
              "    </tr>\n",
              "    <tr>\n",
              "      <th>1</th>\n",
              "      <td>Acura 3.5 RL Navigation</td>\n",
              "      <td>0</td>\n",
              "      <td>0</td>\n",
              "      <td>46100</td>\n",
              "      <td>3.5</td>\n",
              "      <td>6</td>\n",
              "      <td>225</td>\n",
              "      <td>18</td>\n",
              "      <td>24</td>\n",
              "      <td>3893</td>\n",
              "      <td>197</td>\n",
              "      <td>72</td>\n",
              "      <td>Sedan</td>\n",
              "    </tr>\n",
              "    <tr>\n",
              "      <th>2</th>\n",
              "      <td>Acura MDX</td>\n",
              "      <td>1</td>\n",
              "      <td>0</td>\n",
              "      <td>36945</td>\n",
              "      <td>3.5</td>\n",
              "      <td>6</td>\n",
              "      <td>265</td>\n",
              "      <td>17</td>\n",
              "      <td>23</td>\n",
              "      <td>4451</td>\n",
              "      <td>189</td>\n",
              "      <td>77</td>\n",
              "      <td>SUV</td>\n",
              "    </tr>\n",
              "    <tr>\n",
              "      <th>3</th>\n",
              "      <td>Acura NSX S</td>\n",
              "      <td>0</td>\n",
              "      <td>1</td>\n",
              "      <td>89765</td>\n",
              "      <td>3.2</td>\n",
              "      <td>6</td>\n",
              "      <td>290</td>\n",
              "      <td>17</td>\n",
              "      <td>24</td>\n",
              "      <td>3153</td>\n",
              "      <td>174</td>\n",
              "      <td>71</td>\n",
              "      <td>Sports</td>\n",
              "    </tr>\n",
              "    <tr>\n",
              "      <th>4</th>\n",
              "      <td>Acura RSX</td>\n",
              "      <td>0</td>\n",
              "      <td>0</td>\n",
              "      <td>23820</td>\n",
              "      <td>2.0</td>\n",
              "      <td>4</td>\n",
              "      <td>200</td>\n",
              "      <td>24</td>\n",
              "      <td>31</td>\n",
              "      <td>2778</td>\n",
              "      <td>172</td>\n",
              "      <td>68</td>\n",
              "      <td>Sedan</td>\n",
              "    </tr>\n",
              "  </tbody>\n",
              "</table>\n",
              "</div>"
            ],
            "text/plain": [
              "                      Name  AWD  RWD  Price  ...  Weight  Length  Width   Class\n",
              "0             Acura 3.5 RL    0    0  43755  ...    3880     197     72   Sedan\n",
              "1  Acura 3.5 RL Navigation    0    0  46100  ...    3893     197     72   Sedan\n",
              "2                Acura MDX    1    0  36945  ...    4451     189     77     SUV\n",
              "3              Acura NSX S    0    1  89765  ...    3153     174     71  Sports\n",
              "4                Acura RSX    0    0  23820  ...    2778     172     68   Sedan\n",
              "\n",
              "[5 rows x 13 columns]"
            ]
          },
          "metadata": {
            "tags": []
          },
          "execution_count": 11
        }
      ]
    },
    {
      "cell_type": "markdown",
      "metadata": {
        "id": "_qs9f-M3HKkw",
        "colab_type": "text"
      },
      "source": [
        "####Splite column Name to two new columns Brand and Model"
      ]
    },
    {
      "cell_type": "code",
      "metadata": {
        "id": "12RCRB2ZWIy3",
        "colab_type": "code",
        "colab": {}
      },
      "source": [
        "brand = pd.Series([]) \n",
        "model = pd.Series([])\n",
        "\n",
        "for i, feature in enumerate(df_filtered['Name']):\n",
        "  brand[i] = feature.split(' ')[0]\n",
        "  model[i] = feature.split(' ')[1]\n",
        "\n",
        "try: \n",
        "  df_ext.insert(1, \"Brand\", brand) \n",
        "except ValueError:\n",
        "  pass\n",
        "try:\n",
        "  df_ext.insert(2, \"Model\", model) \n",
        "except ValueError:\n",
        "  pass\n",
        "\n",
        "del df_ext[\"Name\"]"
      ],
      "execution_count": 0,
      "outputs": []
    },
    {
      "cell_type": "code",
      "metadata": {
        "id": "SclEtvvyakug",
        "colab_type": "code",
        "colab": {}
      },
      "source": [
        " df_ext.sort_values(\"Price\",ascending=False) "
      ],
      "execution_count": 0,
      "outputs": []
    },
    {
      "cell_type": "code",
      "metadata": {
        "id": "QX_1-5VKxu8y",
        "colab_type": "code",
        "colab": {}
      },
      "source": [
        "df_ext['Price_around'] = pd.cut(x=df_ext['Price'], bins=[9000, 10000, 20000, 30000, 40000, 50000, 60000, 70000, 80000, 90000, 100000, 150000, 200000], labels=[\"10000\", \"20000\", \"30000\", \"40000\", \"50000\", \"60000\", \"70000\", \"80000\", \"90000\", \"100000\", \"150000\", \"200000\"])"
      ],
      "execution_count": 0,
      "outputs": []
    },
    {
      "cell_type": "code",
      "metadata": {
        "id": "Z2rF-FNKj9Ai",
        "colab_type": "code",
        "colab": {}
      },
      "source": [
        "df_ext.info()"
      ],
      "execution_count": 0,
      "outputs": []
    },
    {
      "cell_type": "markdown",
      "metadata": {
        "id": "XaPrENarHZMq",
        "colab_type": "text"
      },
      "source": [
        "####Mean, Median and Histogram"
      ]
    },
    {
      "cell_type": "code",
      "metadata": {
        "id": "SGFpetKoxhVH",
        "colab_type": "code",
        "outputId": "d6b6cc10-dd88-4a5b-b0ce-1f9d3c585d3e",
        "colab": {
          "base_uri": "https://localhost:8080/",
          "height": 34
        }
      },
      "source": [
        "mean_price = int(np.mean(df_ext.Price))\n",
        "median_price = int(np.median(df_ext.Price))\n",
        "print(\"Mean {} || Median {}\".format(mean_price, median_price))\n"
      ],
      "execution_count": 0,
      "outputs": [
        {
          "output_type": "stream",
          "text": [
            "Mean 33231 || Median 28495\n"
          ],
          "name": "stdout"
        }
      ]
    },
    {
      "cell_type": "code",
      "metadata": {
        "id": "2fVmqV1Mb310",
        "colab_type": "code",
        "outputId": "53d5e4cc-7d50-42a5-f5f0-4a0a509d6107",
        "colab": {
          "base_uri": "https://localhost:8080/",
          "height": 337
        }
      },
      "source": [
        "plt.figure(figsize=(20,5))\n",
        "plt.hist(df_ext['Price'],bins=100,  color='c', edgecolor='k', alpha=0.8)\n",
        "plt.axvline(mean_price, color='y', linestyle='dashed', linewidth=2)\n",
        "plt.axvline(median_price, color='b', linestyle='dashed', linewidth=1.5)\n",
        "# plt.axhline(10, color='r', linestyle='dashed', linewidth=.5)"
      ],
      "execution_count": 0,
      "outputs": [
        {
          "output_type": "execute_result",
          "data": {
            "text/plain": [
              "<matplotlib.lines.Line2D at 0x7f18e0356a20>"
            ]
          },
          "metadata": {
            "tags": []
          },
          "execution_count": 22
        },
        {
          "output_type": "display_data",
          "data": {
            "image/png": "[encoded data removed]",
            "text/plain": [
              "<Figure size 1440x360 with 1 Axes>"
            ]
          },
          "metadata": {
            "tags": [],
            "needs_background": "light"
          }
        }
      ]
    },
    {
      "cell_type": "code",
      "metadata": {
        "id": "ekrOh5KsZ1pj",
        "colab_type": "code",
        "outputId": "ac77c260-50e2-4e37-d30b-ce40d1242dee",
        "colab": {
          "base_uri": "https://localhost:8080/",
          "height": 34
        }
      },
      "source": [
        "y_true = df_ext[\"Price\"]\n",
        "y_pred = [mean_price] * y_true.shape[0]\n",
        "mean_absolute_error(y_true, y_pred)"
      ],
      "execution_count": 0,
      "outputs": [
        {
          "output_type": "execute_result",
          "data": {
            "text/plain": [
              "13231.28165374677"
            ]
          },
          "metadata": {
            "tags": []
          },
          "execution_count": 86
        }
      ]
    },
    {
      "cell_type": "code",
      "metadata": {
        "id": "bWywU-WBI3gw",
        "colab_type": "code",
        "outputId": "04cef03a-f87b-41da-c613-fddf16008f5e",
        "colab": {
          "base_uri": "https://localhost:8080/",
          "height": 136
        }
      },
      "source": [
        "df_ext['Brand'].unique()"
      ],
      "execution_count": 0,
      "outputs": [
        {
          "output_type": "execute_result",
          "data": {
            "text/plain": [
              "array(['Acura', 'Audi', 'BMW', 'Buick', 'Cadillac', 'Chevrolet',\n",
              "       'Chrysler', 'Dodge', 'Ford', 'GMC', 'Honda', 'Hummer', 'Hyundai',\n",
              "       'Infiniti', 'Isuzu', 'Jaguar', 'Jeep', 'Kia', 'Land', 'Lexus',\n",
              "       'Lincoln', 'Mazda6', 'Mazda', 'Mercedes-Benz', 'Mercury', 'Mini',\n",
              "       'Mitsubishi', 'Nissan', 'Oldsmobile', 'Pontiac', 'Porsche', 'Saab',\n",
              "       'Saturn', 'Scion', 'Subaru', 'Suzuki', 'Toyota', 'Volkswagen',\n",
              "       'Volvo'], dtype=object)"
            ]
          },
          "metadata": {
            "tags": []
          },
          "execution_count": 87
        }
      ]
    },
    {
      "cell_type": "code",
      "metadata": {
        "id": "96bF0wxLVQXe",
        "colab_type": "code",
        "colab": {}
      },
      "source": [
        "df_ext['Brand_cat'] = df_ext['Brand'].map(lambda x: str(x.lower())).factorize()[0]\n",
        "df_ext['Class_cat'] = df_ext['Class'].map(lambda x: str(x.lower())).factorize()[0]"
      ],
      "execution_count": 0,
      "outputs": []
    },
    {
      "cell_type": "markdown",
      "metadata": {
        "id": "-f9Bkhs3I2kJ",
        "colab_type": "text"
      },
      "source": [
        "####Show rows if columns  \"Brand\" is \"BMW\""
      ]
    },
    {
      "cell_type": "code",
      "metadata": {
        "id": "Q8xvgyBayOiv",
        "colab_type": "code",
        "colab": {}
      },
      "source": [
        "df_ext.loc[df_ext['Brand'] == \"BMW\"]"
      ],
      "execution_count": 0,
      "outputs": []
    },
    {
      "cell_type": "markdown",
      "metadata": {
        "id": "C_ISKSv-kfb3",
        "colab_type": "text"
      },
      "source": [
        "####Shows just choosen columns"
      ]
    },
    {
      "cell_type": "code",
      "metadata": {
        "id": "wC2lpxqTcPlt",
        "colab_type": "code",
        "colab": {}
      },
      "source": [
        "df_ext[ ['Brand', 'Brand_cat'] ]"
      ],
      "execution_count": 0,
      "outputs": []
    },
    {
      "cell_type": "markdown",
      "metadata": {
        "id": "i0EbBJmfkjho",
        "colab_type": "text"
      },
      "source": [
        "####Compere values in columns\n"
      ]
    },
    {
      "cell_type": "code",
      "metadata": {
        "id": "_0Je-Uf_knEW",
        "colab_type": "code",
        "colab": {}
      },
      "source": [
        "df_ext[df_ext.Price != df_ext.Dealer].shape"
      ],
      "execution_count": 0,
      "outputs": []
    },
    {
      "cell_type": "markdown",
      "metadata": {
        "id": "uWOixAJkJSBN",
        "colab_type": "text"
      },
      "source": [
        "####Run model - DecisionTreeRegressor"
      ]
    },
    {
      "cell_type": "code",
      "metadata": {
        "id": "P1X6tqnJ2BCo",
        "colab_type": "code",
        "outputId": "eec8e492-c9a5-4e86-922e-24ab0078d5de",
        "colab": {
          "base_uri": "https://localhost:8080/",
          "height": 51
        }
      },
      "source": [
        "def run_model_1(feats, pred_model, max_depth=5, random_state=0):  \n",
        "  X = df_ext[feats].values\n",
        "  y = df_ext[\"Price\"].values\n",
        "  model = pred_model(max_depth=max_depth, random_state=random_state)\n",
        "  score = cross_val_score(model, X, y, scoring='neg_mean_absolute_error')\n",
        "  model.fit(X,y)\n",
        "  print(np.mean(score))\n",
        "  return  np.mean(score)\n",
        "run_model_1([\"Brand_cat\", \"Class_cat\", \"Horsepower\"], DecisionTreeRegressor)\n"
      ],
      "execution_count": 0,
      "outputs": [
        {
          "output_type": "stream",
          "text": [
            "-7740.2624781381965\n"
          ],
          "name": "stdout"
        },
        {
          "output_type": "execute_result",
          "data": {
            "text/plain": [
              "-7740.2624781381965"
            ]
          },
          "metadata": {
            "tags": []
          },
          "execution_count": 67
        }
      ]
    },
    {
      "cell_type": "markdown",
      "metadata": {
        "id": "3OVqoBA8Jle-",
        "colab_type": "text"
      },
      "source": [
        "####Run model -  DecisionTreeRegressor to Predict\n"
      ]
    },
    {
      "cell_type": "code",
      "metadata": {
        "id": "MSsxsVkY_4S9",
        "colab_type": "code",
        "outputId": "00e346c1-3c44-4445-bffc-3eae6f4d348c",
        "colab": {
          "base_uri": "https://localhost:8080/",
          "height": 34
        }
      },
      "source": [
        "  X = df_ext[[\"Horsepower\",\"Engine\", \"Cylinders\", \"AWD\", \"Brand_cat\",  \"Class_cat\"]].values\n",
        "  y = df_ext[\"Price\"].values\n",
        "  model = DecisionTreeRegressor(max_depth=5)\n",
        "  model.fit(X,y)\n",
        "  model.predict([[200, 4, 12, 0, 2,2]])"
      ],
      "execution_count": 0,
      "outputs": [
        {
          "output_type": "execute_result",
          "data": {
            "text/plain": [
              "array([24859.08108108])"
            ]
          },
          "metadata": {
            "tags": []
          },
          "execution_count": 42
        }
      ]
    },
    {
      "cell_type": "markdown",
      "metadata": {
        "id": "jPxuh-kYJxeh",
        "colab_type": "text"
      },
      "source": [
        "####Prediction DTR"
      ]
    },
    {
      "cell_type": "code",
      "metadata": {
        "id": "CSIcoYHAa3WV",
        "colab_type": "code",
        "outputId": "938d2553-ca8b-4729-d731-2ba2d3679003",
        "colab": {
          "base_uri": "https://localhost:8080/",
          "height": 51
        }
      },
      "source": [
        "def run_model_2(feats, pred_model, max_depth=5, n_estimators=100, random_state=0):  \n",
        "  X = df_ext[feats].values\n",
        "  y = df_ext[\"Price\"].values\n",
        "  model = pred_model(max_depth=max_depth, random_state=random_state)\n",
        "  score = cross_val_score(model, X, y, scoring='neg_mean_absolute_error')\n",
        "  model.fit(X,y)\n",
        "  print(np.mean(score))\n",
        "  return  np.mean(score)\n",
        "\n",
        "run_model_2([\"Brand_cat\", \"Class_cat\", \"Horsepower\"], RandomForestRegressor, max_depth=5, n_estimators=100, random_state=0)\n"
      ],
      "execution_count": 0,
      "outputs": [
        {
          "output_type": "stream",
          "text": [
            "-7363.768933778825\n"
          ],
          "name": "stdout"
        },
        {
          "output_type": "execute_result",
          "data": {
            "text/plain": [
              "-7363.768933778825"
            ]
          },
          "metadata": {
            "tags": []
          },
          "execution_count": 68
        }
      ]
    },
    {
      "cell_type": "code",
      "metadata": {
        "id": "6Vd-8M_1jiu8",
        "colab_type": "code",
        "outputId": "c7867999-a03a-4e1d-c97b-44dd0ef4196c",
        "colab": {
          "base_uri": "https://localhost:8080/",
          "height": 170
        }
      },
      "source": [
        "feats = [\"Horsepower\",\"Engine\", \"Cylinders\", \"AWD\", \"Brand_cat\",  \"Class_cat\", \t\"CityMPG\",\t\"HighwayMPG\"]\n",
        "X = df_ext[feats].values\n",
        "y = df_ext[\"Price\"].values\n",
        "\n",
        "model = RandomForestRegressor(max_depth=5, n_estimators=100, random_state=0)\n",
        "model.fit(X, y)\n",
        "\n",
        "perm = PermutationImportance(model, random_state=1).fit(X,y)\n",
        "eli5.show_weights(perm, feature_names=feats)\n"
      ],
      "execution_count": 0,
      "outputs": [
        {
          "output_type": "execute_result",
          "data": {
            "text/html": [
              "\n",
              "    <style>\n",
              "    table.eli5-weights tr:hover {\n",
              "        filter: brightness(85%);\n",
              "    }\n",
              "</style>\n",
              "\n",
              "\n",
              "\n",
              "    \n",
              "\n",
              "    \n",
              "\n",
              "    \n",
              "\n",
              "    \n",
              "\n",
              "    \n",
              "\n",
              "    \n",
              "\n",
              "\n",
              "    \n",
              "\n",
              "    \n",
              "\n",
              "    \n",
              "\n",
              "    \n",
              "\n",
              "    \n",
              "\n",
              "    \n",
              "\n",
              "\n",
              "    \n",
              "\n",
              "    \n",
              "\n",
              "    \n",
              "\n",
              "    \n",
              "\n",
              "    \n",
              "        <table class=\"eli5-weights eli5-feature-importances\" style=\"border-collapse: collapse; border: none; margin-top: 0em; table-layout: auto;\">\n",
              "    <thead>\n",
              "    <tr style=\"border: none;\">\n",
              "        <th style=\"padding: 0 1em 0 0.5em; text-align: right; border: none;\">Weight</th>\n",
              "        <th style=\"padding: 0 0.5em 0 0.5em; text-align: left; border: none;\">Feature</th>\n",
              "    </tr>\n",
              "    </thead>\n",
              "    <tbody>\n",
              "    \n",
              "        <tr style=\"background-color: hsl(120, 100.00%, 80.00%); border: none;\">\n",
              "            <td style=\"padding: 0 1em 0 0.5em; text-align: right; border: none;\">\n",
              "                1.6375\n",
              "                \n",
              "                    &plusmn; 0.1886\n",
              "                \n",
              "            </td>\n",
              "            <td style=\"padding: 0 0.5em 0 0.5em; text-align: left; border: none;\">\n",
              "                Horsepower\n",
              "            </td>\n",
              "        </tr>\n",
              "    \n",
              "        <tr style=\"background-color: hsl(120, 100.00%, 98.32%); border: none;\">\n",
              "            <td style=\"padding: 0 1em 0 0.5em; text-align: right; border: none;\">\n",
              "                0.0475\n",
              "                \n",
              "                    &plusmn; 0.0134\n",
              "                \n",
              "            </td>\n",
              "            <td style=\"padding: 0 0.5em 0 0.5em; text-align: left; border: none;\">\n",
              "                HighwayMPG\n",
              "            </td>\n",
              "        </tr>\n",
              "    \n",
              "        <tr style=\"background-color: hsl(120, 100.00%, 98.77%); border: none;\">\n",
              "            <td style=\"padding: 0 1em 0 0.5em; text-align: right; border: none;\">\n",
              "                0.0305\n",
              "                \n",
              "                    &plusmn; 0.0053\n",
              "                \n",
              "            </td>\n",
              "            <td style=\"padding: 0 0.5em 0 0.5em; text-align: left; border: none;\">\n",
              "                Engine\n",
              "            </td>\n",
              "        </tr>\n",
              "    \n",
              "        <tr style=\"background-color: hsl(120, 100.00%, 98.77%); border: none;\">\n",
              "            <td style=\"padding: 0 1em 0 0.5em; text-align: right; border: none;\">\n",
              "                0.0304\n",
              "                \n",
              "                    &plusmn; 0.0040\n",
              "                \n",
              "            </td>\n",
              "            <td style=\"padding: 0 0.5em 0 0.5em; text-align: left; border: none;\">\n",
              "                Brand_cat\n",
              "            </td>\n",
              "        </tr>\n",
              "    \n",
              "        <tr style=\"background-color: hsl(120, 100.00%, 99.07%); border: none;\">\n",
              "            <td style=\"padding: 0 1em 0 0.5em; text-align: right; border: none;\">\n",
              "                0.0206\n",
              "                \n",
              "                    &plusmn; 0.0040\n",
              "                \n",
              "            </td>\n",
              "            <td style=\"padding: 0 0.5em 0 0.5em; text-align: left; border: none;\">\n",
              "                CityMPG\n",
              "            </td>\n",
              "        </tr>\n",
              "    \n",
              "        <tr style=\"background-color: hsl(120, 100.00%, 99.58%); border: none;\">\n",
              "            <td style=\"padding: 0 1em 0 0.5em; text-align: right; border: none;\">\n",
              "                0.0066\n",
              "                \n",
              "                    &plusmn; 0.0016\n",
              "                \n",
              "            </td>\n",
              "            <td style=\"padding: 0 0.5em 0 0.5em; text-align: left; border: none;\">\n",
              "                Class_cat\n",
              "            </td>\n",
              "        </tr>\n",
              "    \n",
              "        <tr style=\"background-color: hsl(120, 100.00%, 99.61%); border: none;\">\n",
              "            <td style=\"padding: 0 1em 0 0.5em; text-align: right; border: none;\">\n",
              "                0.0060\n",
              "                \n",
              "                    &plusmn; 0.0025\n",
              "                \n",
              "            </td>\n",
              "            <td style=\"padding: 0 0.5em 0 0.5em; text-align: left; border: none;\">\n",
              "                Cylinders\n",
              "            </td>\n",
              "        </tr>\n",
              "    \n",
              "        <tr style=\"background-color: hsl(120, 100.00%, 99.95%); border: none;\">\n",
              "            <td style=\"padding: 0 1em 0 0.5em; text-align: right; border: none;\">\n",
              "                0.0003\n",
              "                \n",
              "                    &plusmn; 0.0006\n",
              "                \n",
              "            </td>\n",
              "            <td style=\"padding: 0 0.5em 0 0.5em; text-align: left; border: none;\">\n",
              "                AWD\n",
              "            </td>\n",
              "        </tr>\n",
              "    \n",
              "    \n",
              "    </tbody>\n",
              "</table>\n",
              "    \n",
              "\n",
              "    \n",
              "\n",
              "\n",
              "    \n",
              "\n",
              "    \n",
              "\n",
              "    \n",
              "\n",
              "    \n",
              "\n",
              "    \n",
              "\n",
              "    \n",
              "\n",
              "\n",
              "\n"
            ],
            "text/plain": [
              "<IPython.core.display.HTML object>"
            ]
          },
          "metadata": {
            "tags": []
          },
          "execution_count": 95
        }
      ]
    },
    {
      "cell_type": "code",
      "metadata": {
        "id": "TXtotJhnmK1i",
        "colab_type": "code",
        "colab": {}
      },
      "source": [
        "df_ext.Brand.value_counts(normalize=True).map(lambda x: x*100)"
      ],
      "execution_count": 0,
      "outputs": []
    }
  ]
}